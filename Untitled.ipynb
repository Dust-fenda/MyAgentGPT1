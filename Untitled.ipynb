{
 "cells": [
  {
   "cell_type": "code",
   "execution_count": 1,
   "id": "5383976e-69f7-41ce-a36c-55b5fbdd5806",
   "metadata": {},
   "outputs": [
    {
     "name": "stdout",
     "output_type": "stream",
     "text": [
      "1\n"
     ]
    }
   ],
   "source": [
    "print(1)"
   ]
  },
  {
   "cell_type": "code",
   "execution_count": 4,
   "id": "7b35d1ca-7391-46f2-a83f-da4af8b6b503",
   "metadata": {},
   "outputs": [
    {
     "ename": "ModuleNotFoundError",
     "evalue": "No module named 'langchain'",
     "output_type": "error",
     "traceback": [
      "\u001b[0;31m---------------------------------------------------------------------------\u001b[0m",
      "\u001b[0;31mModuleNotFoundError\u001b[0m                       Traceback (most recent call last)",
      "Cell \u001b[0;32mIn[4], line 1\u001b[0m\n\u001b[0;32m----> 1\u001b[0m \u001b[38;5;28;01mfrom\u001b[39;00m \u001b[38;5;21;01mlangchain\u001b[39;00m\u001b[38;5;21;01m.\u001b[39;00m\u001b[38;5;21;01mllms\u001b[39;00m \u001b[38;5;28;01mimport\u001b[39;00m OpenAI\n",
      "\u001b[0;31mModuleNotFoundError\u001b[0m: No module named 'langchain'"
     ]
    }
   ],
   "source": [
    "from langchain.llms import OpenAI"
   ]
  },
  {
   "cell_type": "code",
   "execution_count": 3,
   "id": "2034ad54-f40e-46c0-a0d4-048776c0fea0",
   "metadata": {},
   "outputs": [
    {
     "name": "stdout",
     "output_type": "stream",
     "text": [
      "Package                  Version\n",
      "------------------------ --------\n",
      "aiohttp                  3.9.5\n",
      "aiosignal                1.3.1\n",
      "annotated-types          0.6.0\n",
      "anyio                    4.3.0\n",
      "async-timeout            4.0.3\n",
      "attrs                    23.2.0\n",
      "Brotli                   1.1.0\n",
      "certifi                  2024.2.2\n",
      "charset-normalizer       3.3.2\n",
      "dataclasses-json         0.6.6\n",
      "distro                   1.9.0\n",
      "exceptiongroup           1.2.0\n",
      "frozenlist               1.4.1\n",
      "greenlet                 3.0.3\n",
      "h11                      0.14.0\n",
      "httpcore                 1.0.5\n",
      "httpx                    0.27.0\n",
      "idna                     3.7\n",
      "jsonpatch                1.33\n",
      "jsonpointer              2.4\n",
      "langchain                0.1.20\n",
      "langchain-community      0.0.38\n",
      "langchain-core           0.1.52\n",
      "langchain-text-splitters 0.0.1\n",
      "langsmith                0.1.57\n",
      "marshmallow              3.21.2\n",
      "multidict                6.0.5\n",
      "mypy-extensions          1.0.0\n",
      "numpy                    1.26.4\n",
      "openai                   1.30.1\n",
      "orjson                   3.10.3\n",
      "packaging                23.2\n",
      "pip                      24.0\n",
      "pydantic                 2.7.1\n",
      "pydantic_core            2.18.2\n",
      "PySocks                  1.7.1\n",
      "PyYAML                   6.0.1\n",
      "requests                 2.31.0\n",
      "setuptools               69.5.1\n",
      "sniffio                  1.3.1\n",
      "SQLAlchemy               2.0.30\n",
      "tenacity                 8.3.0\n",
      "tqdm                     4.66.4\n",
      "typing_extensions        4.11.0\n",
      "typing-inspect           0.9.0\n",
      "urllib3                  2.2.1\n",
      "wheel                    0.43.0\n",
      "yarl                     1.9.4\n"
     ]
    }
   ],
   "source": [
    "!pip list"
   ]
  },
  {
   "cell_type": "code",
   "execution_count": null,
   "id": "ec1cb019-7a8c-4bca-b44f-54e93dc919c2",
   "metadata": {},
   "outputs": [],
   "source": []
  }
 ],
 "metadata": {
  "kernelspec": {
   "display_name": "Python 3 (ipykernel)",
   "language": "python",
   "name": "python3"
  },
  "language_info": {
   "codemirror_mode": {
    "name": "ipython",
    "version": 3
   },
   "file_extension": ".py",
   "mimetype": "text/x-python",
   "name": "python",
   "nbconvert_exporter": "python",
   "pygments_lexer": "ipython3",
   "version": "3.10.12"
  }
 },
 "nbformat": 4,
 "nbformat_minor": 5
}
